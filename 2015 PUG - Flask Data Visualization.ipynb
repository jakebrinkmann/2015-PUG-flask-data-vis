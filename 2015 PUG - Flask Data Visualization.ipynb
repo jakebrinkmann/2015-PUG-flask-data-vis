{
 "cells": [
  {
   "cell_type": "markdown",
   "metadata": {
    "slideshow": {
     "slide_type": "slide"
    }
   },
   "source": [
    "# Python, Flask and Web-visualizations\n",
    "## GSFC PUG - OCT 2015\n",
    "\n",
    "Welcome, [Goddard Python User's Group](https://lists.nasa.gov/mailman/listinfo/gsfc-python-users)!  \n",
    "\n",
    "This guide outlines the steps we took in our **October 6th, 2015 Meetup** to write a web application, for data visualization, in [Python](http://python.org/) using the [Flask](http://flask.pocoo.org/) microframework."
   ]
  },
  {
   "cell_type": "markdown",
   "metadata": {
    "slideshow": {
     "slide_type": "slide"
    }
   },
   "source": [
    "+ <h3>Setup</h3>\n",
    " + Hello World\n",
    " + URL Routing\n",
    " + Templates\n",
    "+ <h3>User Inputs</h3>\n",
    " + URL Variable Inputs\n",
    " + Forms (Flask-WTForms)\n",
    "+ <h3>Data Display</h3>\n",
    " + Static (matplotlib, ggplot, seaborn)\n",
    " + Interactive (bokeh, mpld3, plotly)\n",
    "+ <h3>Upgaded Interface</h3>\n",
    " + Layouts (Bootstrap, Foundation)\n",
    " + Document Object Model (jQuery)\n",
    " + Call backs (AJAX, Databases)\n",
    " + Custom visualizations (d3.js, nvd3)\n"
   ]
  },
  {
   "cell_type": "markdown",
   "metadata": {
    "slideshow": {
     "slide_type": "notes"
    }
   },
   "source": [
    "* Setup, User Inputs, and Static plotting all deal with the \"Backend\", or Server\n",
    " * The Server is where flask is very handy\n",
    "* Interactive display with python packages begins the \"Frontend\", or Client\n",
    " * The Client is really where JavaScript is more useful"
   ]
  },
  {
   "cell_type": "markdown",
   "metadata": {
    "slideshow": {
     "slide_type": "subslide"
    }
   },
   "source": [
    "* What is flask?\n",
    " * Flask takes care of the \"Web Server Gateway Interface\" (WSGI)\n",
    " \n",
    "<img src=\"imgs/wsgi_example.png\"></img>"
   ]
  },
  {
   "cell_type": "markdown",
   "metadata": {
    "slideshow": {
     "slide_type": "subslide"
    }
   },
   "source": [
    "When a user makes a request in the client, `flask` will bring you back into the python program on the server side. \n",
    "\n",
    "If a user asks for a yearly average dataset, you can use `pandas` to provide the sampling, and `flask` again helps with sending the data back to the user. \n",
    "\n",
    "Anything you can do in python, you are suddenly able to interact with via the `flask` module. \n",
    "\n",
    "There are also `flask` add-ons, which handle even more amazing tasks, like local language translataion, thwarting hackers, and creating beautiful barebones websites in seconds. \n",
    "\n",
    "Let's get started!"
   ]
  },
  {
   "cell_type": "markdown",
   "metadata": {
    "slideshow": {
     "slide_type": "slide"
    }
   },
   "source": [
    "# Follow Along\n",
    "\n",
    "I've tried to orgainze all the codes here:\n",
    "\n",
    "    git clone https://github.com/jakebrinkmann/2015-PUG-flask-data-vis.git \n",
    "    cd 2015-PUG-flask-data-vis\n",
    "    "
   ]
  },
  {
   "cell_type": "markdown",
   "metadata": {
    "slideshow": {
     "slide_type": "subslide"
    }
   },
   "source": [
    "# Dependencies\n",
    "\n",
    "Starting off, we will need:  \n",
    "\n",
    "* python 2.7\n",
    "* flask\n",
    "* An up-to-date modern browser\n",
    "\n",
    "I will use other packages along the way, but these are really all you need"
   ]
  },
  {
   "cell_type": "markdown",
   "metadata": {
    "slideshow": {
     "slide_type": "subslide"
    }
   },
   "source": [
    "# Assumptions\n",
    "\n",
    "* You are using a UNIX-based OS\n",
    "* You have not used flask before\n",
    "* You have little or no web-developer experience\n",
    "\n",
    "If you have used flask before, or know web development... let's make the next talk together!"
   ]
  },
  {
   "cell_type": "markdown",
   "metadata": {
    "slideshow": {
     "slide_type": "slide"
    }
   },
   "source": [
    "---\n",
    "\n",
    "# Getting Started\n",
    "\n",
    "    git checkout version-0.1\n",
    "\n",
    " + Hello World\n",
    " + URL Routing\n",
    " + Templates\n",
    "\n",
    "---\n",
    "\n"
   ]
  },
  {
   "cell_type": "markdown",
   "metadata": {
    "slideshow": {
     "slide_type": "subslide"
    }
   },
   "source": [
    "# Flask Hello World\n",
    "\n",
    "    git checkout tags/v0.1.0\n",
    "\n",
    "Flask is quick to get running"
   ]
  },
  {
   "cell_type": "code",
   "execution_count": null,
   "metadata": {
    "collapsed": true,
    "slideshow": {
     "slide_type": "fragment"
    }
   },
   "outputs": [],
   "source": [
    "from flask import Flask\n",
    "\n",
    "app = Flask(__name__) # WSGI application\n",
    "\n",
    "@app.route('/')\n",
    "def hello_world():\n",
    "    return 'Hello from Flask!'\n",
    "\n",
    "if __name__ == '__main__':\n",
    "    app.run()"
   ]
  },
  {
   "cell_type": "markdown",
   "metadata": {
    "slideshow": {
     "slide_type": "fragment"
    }
   },
   "source": [
    "Congratulations, your first web app! It will be running at http://localhost:5000 (only accessible by your machine)"
   ]
  },
  {
   "cell_type": "markdown",
   "metadata": {
    "slideshow": {
     "slide_type": "subslide"
    }
   },
   "source": [
    "Flask can generate HTML from within Python"
   ]
  },
  {
   "cell_type": "code",
   "execution_count": null,
   "metadata": {
    "collapsed": true,
    "slideshow": {
     "slide_type": "fragment"
    }
   },
   "outputs": [],
   "source": [
    "from flask import Flask\n",
    "\n",
    "app = Flask(__name__)\n",
    "\n",
    "@app.route('/')\n",
    "def show_html():\n",
    "    return '<h1>Big heading</h1><p>And some <b>paragraph</b> text</p>'\n",
    "\n",
    "if __name__ == '__main__':\n",
    "    app.run()"
   ]
  },
  {
   "cell_type": "markdown",
   "metadata": {
    "slideshow": {
     "slide_type": "subslide"
    }
   },
   "source": [
    "# Debugging\n",
    "\n",
    "    git checkout tags/v0.1.2\n",
    "    \n",
    "If you enable debug support the server will reload itself on code changes, and it will also provide you with a helpful debugger if things go wrong"
   ]
  },
  {
   "cell_type": "code",
   "execution_count": null,
   "metadata": {
    "collapsed": false,
    "slideshow": {
     "slide_type": "fragment"
    }
   },
   "outputs": [],
   "source": [
    "from flask import Flask\n",
    "\n",
    "app = Flask(__name__)\n",
    "\n",
    "@app.route('/')\n",
    "def create_error():\n",
    "    return 10 + 'a'\n",
    "\n",
    "if __name__ == '__main__':\n",
    "    app.run(debug=True)"
   ]
  },
  {
   "cell_type": "markdown",
   "metadata": {
    "slideshow": {
     "slide_type": "subslide"
    }
   },
   "source": [
    "# <span style=\"color: red\">Warning</span>\n",
    "\n",
    "The interactive debugger allows the execution of arbitrary code.  \n",
    "This makes it a major security risk and therefore it must never be used on production machines.\n",
    "\n",
    "\n",
    "    app.run(debug=os.environ('DEBUG', false))\n",
    "    "
   ]
  },
  {
   "cell_type": "markdown",
   "metadata": {
    "slideshow": {
     "slide_type": "subslide"
    }
   },
   "source": [
    "# Route Handling\n",
    "\n",
    "    git checkout tags/v0.2.0\n",
    "\n",
    "Flask can also handle more complex redirects, and request routes"
   ]
  },
  {
   "cell_type": "code",
   "execution_count": null,
   "metadata": {
    "collapsed": true,
    "slideshow": {
     "slide_type": "fragment"
    }
   },
   "outputs": [],
   "source": [
    "from flask import Flask, url_for\n",
    "\n",
    "@app.route('/proj')\n",
    "def projects():\n",
    "    return '<h1>Project Page</h1><p><ul><li>PUG Data Visualization</li></ul></p>'\n",
    "\n",
    "\n",
    "@app.route('/')\n",
    "def hello_world():\n",
    "    return '<a href=\"'+ url_for('projects') +'\">Projects Page</a>'\n",
    "\n",
    "if __name__ == '__main__':\n",
    "    app.run()"
   ]
  },
  {
   "cell_type": "markdown",
   "metadata": {
    "slideshow": {
     "slide_type": "subslide"
    }
   },
   "source": [
    "# App Layout\n",
    "\n",
    "    git checkout tags/v0.2.1\n",
    "    \n",
    "It is important to seperate the *presentation* from the *logic*\n"
   ]
  },
  {
   "cell_type": "code",
   "execution_count": null,
   "metadata": {
    "collapsed": true,
    "slideshow": {
     "slide_type": "fragment"
    }
   },
   "outputs": [],
   "source": [
    "! mkdir app\n",
    "! mkdir app/static\n",
    "! mkdir app/templates\n",
    "! mkdir tmp\n",
    "! touch app/__init__.py\n",
    "! touch app/views.py\n",
    "! touch run.py"
   ]
  },
  {
   "cell_type": "markdown",
   "metadata": {
    "slideshow": {
     "slide_type": "subslide"
    }
   },
   "source": [
    "    app/__init__.py"
   ]
  },
  {
   "cell_type": "code",
   "execution_count": null,
   "metadata": {
    "collapsed": false,
    "slideshow": {
     "slide_type": "-"
    }
   },
   "outputs": [],
   "source": [
    "from flask import Flask\n",
    "\n",
    "app = Flask(__name__)\n",
    "from app import views"
   ]
  },
  {
   "cell_type": "markdown",
   "metadata": {
    "slideshow": {
     "slide_type": "subslide"
    }
   },
   "source": [
    "    app/views.py"
   ]
  },
  {
   "cell_type": "code",
   "execution_count": null,
   "metadata": {
    "collapsed": true
   },
   "outputs": [],
   "source": [
    "from app import app\n",
    "\n",
    "@app.route('/')\n",
    "@app.route('/index')\n",
    "def index():\n",
    "    return \"Hello, World!\""
   ]
  },
  {
   "cell_type": "markdown",
   "metadata": {
    "slideshow": {
     "slide_type": "subslide"
    }
   },
   "source": [
    "    run.py"
   ]
  },
  {
   "cell_type": "code",
   "execution_count": null,
   "metadata": {
    "collapsed": true
   },
   "outputs": [],
   "source": [
    "#!conda/bin/python\n",
    "from app import app\n",
    "app.run(debug=True)"
   ]
  },
  {
   "cell_type": "markdown",
   "metadata": {
    "collapsed": true,
    "slideshow": {
     "slide_type": "subslide"
    }
   },
   "source": [
    "# Templates\n",
    "\n",
    "    git checkout version-0.5"
   ]
  },
  {
   "cell_type": "code",
   "execution_count": null,
   "metadata": {
    "collapsed": true,
    "slideshow": {
     "slide_type": "fragment"
    }
   },
   "outputs": [],
   "source": [
    "from app import app\n",
    "\n",
    "@app.route('/')\n",
    "@app.route('/index')\n",
    "def index():\n",
    "    user = {'nickname': 'Dr. Robert'}  # fake user\n",
    "    return '''\n",
    "<html>\n",
    "  <head>\n",
    "    <title>Home Page</title>\n",
    "  </head>\n",
    "  <body>\n",
    "    <h1>Hello, ''' + user['nickname'] + '''</h1>\n",
    "  </body>\n",
    "</html>\n",
    "'''"
   ]
  },
  {
   "cell_type": "markdown",
   "metadata": {
    "slideshow": {
     "slide_type": "subslide"
    }
   },
   "source": [
    "# Jinja2 Template Engine\n",
    "\n",
    "To keep the logic of your application separate from the layout or presentation of your web pages things would be much better organized\n",
    "\n",
    "Jinja Templates are great, and the syntax is fairly straight forward. \n",
    "It is used internally by both:\n",
    "\n",
    "* flask\n",
    "* Jekyll (ruby)\n",
    "\n",
    "Useful for flask, but also useful for other HTML tasks, like sending emails with preset formating\n"
   ]
  },
  {
   "cell_type": "markdown",
   "metadata": {
    "slideshow": {
     "slide_type": "subslide"
    }
   },
   "source": [
    "Control statements\n",
    "\n",
    "    app/templates/index.html"
   ]
  },
  {
   "cell_type": "code",
   "execution_count": null,
   "metadata": {
    "collapsed": true
   },
   "outputs": [],
   "source": [
    "<html>\n",
    "  <head>\n",
    "    {% if title %}\n",
    "    <title>{{ title }} - PUG</title>\n",
    "    {% else %}\n",
    "    <title>2015-PUG-Data-Vis</title>\n",
    "    {% endif %}\n",
    "  </head>\n",
    "  <body>\n",
    "      <h1>Hello, {{ user.nickname }}!</h1>\n",
    "  </body>\n",
    "</html>"
   ]
  },
  {
   "cell_type": "markdown",
   "metadata": {
    "slideshow": {
     "slide_type": "subslide"
    }
   },
   "source": [
    "    app/views.py"
   ]
  },
  {
   "cell_type": "code",
   "execution_count": null,
   "metadata": {
    "collapsed": true
   },
   "outputs": [],
   "source": [
    "from flask import render_template\n",
    "from app import app\n",
    "\n",
    "@app.route('/')\n",
    "@app.route('/index')\n",
    "def index():\n",
    "    user = {'nickname': 'Dr. Robert'} \n",
    "    return render_template('index.html',\n",
    "                           title='Home',\n",
    "                           user=user)"
   ]
  },
  {
   "cell_type": "markdown",
   "metadata": {
    "slideshow": {
     "slide_type": "slide"
    }
   },
   "source": [
    "---\n",
    "\n",
    "# User Inputs\n",
    "\n",
    "    git checkout version-0.2\n",
    "\n",
    " + URL Variable Inputs\n",
    " + Forms (Flask-WTForms)\n",
    " \n",
    "---"
   ]
  },
  {
   "cell_type": "markdown",
   "metadata": {
    "slideshow": {
     "slide_type": "subslide"
    }
   },
   "source": [
    "<img src=\"imgs/click_stream.png\" style=\"align: center\"></img>"
   ]
  },
  {
   "cell_type": "markdown",
   "metadata": {
    "slideshow": {
     "slide_type": "subslide"
    }
   },
   "source": [
    "# URL Variables\n",
    "\n",
    "    git checkout version-0.6\n",
    "\n",
    "\n",
    "Add variable parts to a URL.  \n",
    "Optionall converters exist:\n",
    "\n",
    "+ int -\taccepts integers\n",
    "+ float - like int but for floating point values\n",
    "+ path - like the default but also accepts slashes"
   ]
  },
  {
   "cell_type": "code",
   "execution_count": null,
   "metadata": {
    "collapsed": true,
    "slideshow": {
     "slide_type": "fragment"
    }
   },
   "outputs": [],
   "source": [
    "@app.route('/user/<username>')\n",
    "def show_user_profile(username):\n",
    "    # show the user profile for that user\n",
    "    return 'User %s' % username\n",
    "\n",
    "@app.route('/post/<int:post_id>')\n",
    "def show_post(post_id):\n",
    "    # show the post with the given id, the id is an integer\n",
    "    return 'Post %d' % post_id"
   ]
  },
  {
   "cell_type": "markdown",
   "metadata": {
    "slideshow": {
     "slide_type": "subslide"
    }
   },
   "source": [
    "# Forms\n"
   ]
  },
  {
   "cell_type": "markdown",
   "metadata": {
    "slideshow": {
     "slide_type": "subslide"
    }
   },
   "source": [
    "HTTP Methods\n"
   ]
  },
  {
   "cell_type": "code",
   "execution_count": null,
   "metadata": {
    "collapsed": true,
    "slideshow": {
     "slide_type": "fragment"
    }
   },
   "outputs": [],
   "source": [
    "@app.route('/login', methods=['POST', 'GET'])\n",
    "def login():\n",
    "    error = None\n",
    "    if request.method == 'POST':\n",
    "        if valid_login(request.form['username'],\n",
    "                       request.form['password']):\n",
    "            return log_the_user_in(request.form['username'])\n",
    "        else:\n",
    "            error = 'Invalid username/password'\n",
    "    # the code below is executed if the request method\n",
    "    # was GET or the credentials were invalid\n",
    "    return render_template('login.html', error=error)"
   ]
  },
  {
   "cell_type": "markdown",
   "metadata": {
    "slideshow": {
     "slide_type": "subslide"
    }
   },
   "source": [
    "Beware hackers"
   ]
  },
  {
   "cell_type": "code",
   "execution_count": 1,
   "metadata": {
    "collapsed": false,
    "slideshow": {
     "slide_type": "-"
    }
   },
   "outputs": [
    {
     "data": {
      "text/plain": [
       "Markup(u'<strong>Hello &lt;blink&gt;hacker&lt;/blink&gt;!</strong>')"
      ]
     },
     "execution_count": 1,
     "metadata": {},
     "output_type": "execute_result"
    }
   ],
   "source": [
    "from flask import Markup\n",
    "Markup('<strong>Hello %s!</strong>') % '<blink>hacker</blink>'"
   ]
  },
  {
   "cell_type": "markdown",
   "metadata": {
    "slideshow": {
     "slide_type": "slide"
    }
   },
   "source": [
    "---\n",
    "\n",
    "# Data Display\n",
    "\n",
    " + Static (matplotlib, ggplot, seaborn)\n",
    " + Interactive (bokeh, mpld3, plotly)\n",
    "\n",
    "---"
   ]
  },
  {
   "cell_type": "markdown",
   "metadata": {
    "slideshow": {
     "slide_type": "subslide"
    }
   },
   "source": [
    "# Static Plotting\n",
    "\n",
    "+ matplotlib\n",
    "+ ggplot\n",
    "+ seaborn"
   ]
  },
  {
   "cell_type": "code",
   "execution_count": null,
   "metadata": {
    "collapsed": true,
    "slideshow": {
     "slide_type": "subslide"
    }
   },
   "outputs": [],
   "source": [
    "from flask import Flask, make_response\n",
    "from matplotlib.backends.backend_agg import FigureCanvasAgg as FigureCanvas\n",
    "from matplotlib.figure import Figure\n",
    "\n",
    "\n",
    "app = Flask(__name__)\n",
    "\n",
    "\n",
    "@app.route('/plot.png')\n",
    "def plot():\n",
    "    fig = Figure()\n",
    "    axis = fig.add_subplot(1, 1, 1)\n",
    "\n",
    "    xs = range(100)\n",
    "    ys = [random.randint(1, 50) for x in xs]\n",
    "\n",
    "    axis.plot(xs, ys)\n",
    "    canvas = FigureCanvas(fig)\n",
    "    output = StringIO.StringIO()\n",
    "    canvas.print_png(output)\n",
    "    response = make_response(output.getvalue())\n",
    "    response.mimetype = 'image/png'\n",
    "    return response"
   ]
  },
  {
   "cell_type": "markdown",
   "metadata": {
    "slideshow": {
     "slide_type": "subslide"
    }
   },
   "source": [
    "# Interactive Plotting\n",
    "\n",
    "+ bokeh\n",
    "+ mpld3\n",
    "+ plotly\n"
   ]
  },
  {
   "cell_type": "code",
   "execution_count": null,
   "metadata": {
    "collapsed": true,
    "slideshow": {
     "slide_type": "subslide"
    }
   },
   "outputs": [],
   "source": [
    "from bokeh.embed import components\n",
    "from bokeh.plotting import figure\n",
    "\n",
    "@app.route('/plot/')\n",
    "def hello():\n",
    "    fig = figure(title=\"Polynomial\")\n",
    "    fig.line(x, [i ** 2 for i in x], color=color, line_width=2)\n",
    "    script, div = components(fig)\n",
    "    return render_template(\n",
    "        'bokeh.html',\n",
    "        script=script,\n",
    "        div=div,\n",
    "    )"
   ]
  },
  {
   "cell_type": "code",
   "execution_count": null,
   "metadata": {
    "collapsed": true,
    "slideshow": {
     "slide_type": "subslide"
    }
   },
   "outputs": [],
   "source": [
    "<!DOCTYPE html>\n",
    "<html lang=\"en\">\n",
    "    <head>\n",
    "        <meta charset=\"utf-8\">\n",
    "        <title>Bokeh Plot</title>\n",
    "       \n",
    "        <link rel=\"stylesheet\" href=\"http://cdn.pydata.org/bokeh/release/bokeh-0.9.1.min.css\" type=\"text/css\" />\n",
    "        <script type=\"text/javascript\" src=\"http://cdn.pydata.org/bokeh/release/bokeh-0.9.1.min.js\"></script>\n",
    "  </head>\n",
    "  <body>\n",
    "      {{ div | safe }}\n",
    "      {{ script | safe }}\n",
    "  </body>\n",
    "</html>"
   ]
  },
  {
   "cell_type": "markdown",
   "metadata": {
    "slideshow": {
     "slide_type": "slide"
    }
   },
   "source": [
    "---\n",
    "\n",
    "# Upgraded Interface\n",
    "\n",
    " + Layouts (Bootstrap, Foundation)\n",
    " + Document Object Model (jQuery)\n",
    " + Call backs (AJAX, Databases)\n",
    " + Custom visualizations (d3.js, nvd3)\n",
    "\n",
    "---"
   ]
  },
  {
   "cell_type": "markdown",
   "metadata": {
    "slideshow": {
     "slide_type": "subslide"
    }
   },
   "source": [
    "# Javascript Plotting\n",
    "\n",
    "+ d3\n",
    "+ nvd3\n",
    "+ dygraphs\n",
    "+ Google Charts"
   ]
  },
  {
   "cell_type": "code",
   "execution_count": null,
   "metadata": {
    "collapsed": true,
    "slideshow": {
     "slide_type": "fragment"
    }
   },
   "outputs": [],
   "source": [
    "<div id=\"chart1\">\n",
    "    <svg></svg>\n",
    "</div>\n",
    "\n",
    "<script>\n",
    "    // Wrapping in nv.addGraph allows for '0 timeout render', stores rendered charts in nv.graphs,\n",
    "    // and may do more in the future... it's NOT required\n",
    "    nv.addGraph(function() {"
   ]
  },
  {
   "cell_type": "markdown",
   "metadata": {
    "slideshow": {
     "slide_type": "subslide"
    }
   },
   "source": [
    "# Javascript Awesome\n",
    "\n",
    "+ Bootstrap, Foundation, etc.\n",
    "+ JQUERY\n",
    "+ AJAX"
   ]
  },
  {
   "cell_type": "code",
   "execution_count": null,
   "metadata": {
    "collapsed": true,
    "slideshow": {
     "slide_type": "fragment"
    }
   },
   "outputs": [],
   "source": [
    "<!DOCTYPE html>\n",
    "<html lang=\"en\">\n",
    "  <head>\n",
    "    <meta charset=\"utf-8\">\n",
    "    <meta http-equiv=\"X-UA-Compatible\" content=\"IE=edge\">\n",
    "    <meta name=\"viewport\" content=\"width=device-width, initial-scale=1\">\n",
    "    <!-- The above 3 meta tags *must* come first in the head; any other head content must come *after* these tags -->\n",
    "    \n"
   ]
  },
  {
   "cell_type": "markdown",
   "metadata": {
    "slideshow": {
     "slide_type": "slide"
    }
   },
   "source": [
    "# Depolyment\n",
    "\n",
    "Couple of options for deployment\n",
    "\n",
    "+ In-App\n",
    "+ pythonanywhere, heroku\n",
    "+ Apache2, nginx, RPi server, etc."
   ]
  },
  {
   "cell_type": "markdown",
   "metadata": {
    "slideshow": {
     "slide_type": "subslide"
    }
   },
   "source": [
    "# In-App\n",
    "\n",
    "    app.run(port='0.0.0.0', debug=False)"
   ]
  },
  {
   "cell_type": "markdown",
   "metadata": {
    "slideshow": {
     "slide_type": "subslide"
    }
   },
   "source": [
    "# pythonanywhere, heroku\n",
    "\n",
    "Leave out the `app.run()` call, and setup configurations as directed by the host\n",
    "\n",
    "[pythonanywhere](https://www.pythonanywhere.com/details/flask_hosting)\n",
    "\n",
    "[heroku](https://devcenter.heroku.com/articles/getting-started-with-python-o)\n",
    "\n"
   ]
  },
  {
   "cell_type": "markdown",
   "metadata": {
    "slideshow": {
     "slide_type": "subslide"
    }
   },
   "source": [
    "# Setting up Apache \n",
    "\n",
    "    FcgidIPCDir /tmp\n",
    "    AddHandler fcgid-script .fcgi\n",
    "    <VirtualHost *:80>\n",
    "        DocumentRoot /var/www/datavis/app/static\n",
    "        Alias /static /var/www/datavis/app/static\n",
    "        ScriptAlias / /var/www/datavis/runp-mysql.fcgi/\n",
    "    </VirtualHost>"
   ]
  },
  {
   "cell_type": "markdown",
   "metadata": {
    "slideshow": {
     "slide_type": "skip"
    }
   },
   "source": [
    "---\n",
    "\n",
    "# CONCLUSIONS =================================="
   ]
  },
  {
   "cell_type": "markdown",
   "metadata": {
    "slideshow": {
     "slide_type": "slide"
    }
   },
   "source": [
    "# Common Pitfalls\n",
    "\n",
    "Things which seemed to pop up reliably to trip me up early on"
   ]
  },
  {
   "cell_type": "markdown",
   "metadata": {
    "slideshow": {
     "slide_type": "subslide"
    }
   },
   "source": [
    "## Flask\n",
    "\n",
    "+ Using loops, other Jinja controls\n",
    "+ Keeping logic seperate from UI/UX\n",
    "+ Pre-process & ready the data"
   ]
  },
  {
   "cell_type": "markdown",
   "metadata": {
    "slideshow": {
     "slide_type": "subslide"
    }
   },
   "source": [
    "## Javascript\n",
    "\n",
    "+ Javascript is complied language, and is getting faster\n",
    "+ + Out-source some processes to the client browser\n",
    "+ Imports can overwrite, or depend on, other imports\n",
    "+ "
   ]
  },
  {
   "cell_type": "markdown",
   "metadata": {
    "slideshow": {
     "slide_type": "subslide"
    }
   },
   "source": [
    "## Website\n",
    "\n",
    "+ FLask is best for when you need the server backend\n",
    "+ Jekyll for static webpages\n",
    "+ Drupal for multi-user content"
   ]
  },
  {
   "cell_type": "markdown",
   "metadata": {
    "slideshow": {
     "slide_type": "slide"
    }
   },
   "source": [
    "# References\n",
    "\n",
    "[flask docs](http://flask.pocoo.org/docs/0.10/quickstart/)\n",
    "\n",
    "[The Flask Mega-Tutorial](http://blog.miguelgrinberg.com/post/the-flask-mega-tutorial-part-i-hello-world)\n"
   ]
  }
 ],
 "metadata": {
  "celltoolbar": "Slideshow",
  "kernelspec": {
   "display_name": "Python 2",
   "language": "python",
   "name": "python2"
  },
  "language_info": {
   "codemirror_mode": {
    "name": "ipython",
    "version": 2
   },
   "file_extension": ".py",
   "mimetype": "text/x-python",
   "name": "python",
   "nbconvert_exporter": "python",
   "pygments_lexer": "ipython2",
   "version": "2.7.10"
  }
 },
 "nbformat": 4,
 "nbformat_minor": 0
}
