{
 "cells": [
  {
   "cell_type": "markdown",
   "metadata": {
    "slideshow": {
     "slide_type": "slide"
    }
   },
   "source": [
    "# Python, Flask and Web-visualizations\n",
    "## GSFC PUG - OCT 2015\n",
    "\n",
    "Welcome, [Goddard Python User's Group](https://lists.nasa.gov/mailman/listinfo/gsfc-python-users)!  \n",
    "\n",
    "This guide outlines the steps we took in our **October 6th, 2015 Meetup** to write a web application, for data visualization, in [Python](http://python.org/) using the [Flask](http://flask.pocoo.org/) microframework."
   ]
  },
  {
   "cell_type": "markdown",
   "metadata": {
    "slideshow": {
     "slide_type": "subslide"
    }
   },
   "source": [
    "My research over the past year to develop a simple application for viewing the multitude of telemetry sensors throughout the MODIS instrument\n",
    "\n",
    "I needed something which was quick to start up, easy to maintain, and update programaticaly. \n",
    "\n",
    "What I decided was I thought a web app would be the coolest, with the ultimate goal of being able to browse the data on my cell phone. \n",
    "\n",
    "My journey took me into the wonderful worlds of: \n",
    "\n",
    "+ Front-end (the \"Client\")\n",
    "+ + Responsive Design (User Interface \"UI\" & User Expeirience \"UX\")\n",
    "+ + Javascript (AJAX, JQUERY)\n",
    "+ Back-end (the \"Server\")\n",
    "+ + Apache & WSGI (Web-server Gateway Interfaces)\n",
    "+ + RESTful API's \n",
    "+ + Databases\n"
   ]
  },
  {
   "cell_type": "markdown",
   "metadata": {
    "slideshow": {
     "slide_type": "subslide"
    }
   },
   "source": [
    "What `flask` can take care of is the WSGI. And, this turns out to be the most useful part. Every time a user clicks in the client, `flask` will bring you back into the python program on the server side. \n",
    "\n",
    "This means, if a user asks for a yearly average dataset filtered by another column... you can use `pandas` to provide the sampling, and `flask` again helps with sending the data back to the user. Anything you can do in python, you are suddenly able to interact with via the `flask` module. \n",
    "\n",
    "There are also `flask` add-ons, which handle even more amazing tasks, like local language translataion, thwarting hackers, and creating beautiful barebones websites in seconds. \n",
    "\n",
    "My goal is to convince anyone out there who is weary of diving in to flask, to dive in head first...  \n",
    "\n",
    "So, Let's get started!"
   ]
  },
  {
   "cell_type": "markdown",
   "metadata": {
    "slideshow": {
     "slide_type": "slide"
    }
   },
   "source": [
    "# Follow Along\n",
    "\n",
    "    git clone https://github.com/jakebrinkmann/2015-PUG-flask-data-vis.git \n",
    "    cd 2015-PUG-flask-data-vis\n",
    "    git checkout version-0.1\n",
    "    \n",
    "Each branch has tags associated to help guide the developement\n",
    "\n",
    "    git tags -l\n",
    "    git checkout tags/v0.1.0"
   ]
  },
  {
   "cell_type": "markdown",
   "metadata": {
    "slideshow": {
     "slide_type": "subslide"
    }
   },
   "source": [
    "# Dependencies\n",
    "\n",
    "Starting off, we will need:  \n",
    "\n",
    "* python 2.7\n",
    "* flask\n",
    "* An up-to-date modern browser\n",
    "\n",
    "I will use other packages along the way, but these are really all you need"
   ]
  },
  {
   "cell_type": "markdown",
   "metadata": {
    "slideshow": {
     "slide_type": "skip"
    }
   },
   "source": [
    "---\n",
    "\n",
    "# STARTUP ====================================="
   ]
  },
  {
   "cell_type": "markdown",
   "metadata": {
    "slideshow": {
     "slide_type": "slide"
    }
   },
   "source": [
    "# Flask Hello World\n",
    "\n",
    "Flask can be straight to the point"
   ]
  },
  {
   "cell_type": "code",
   "execution_count": null,
   "metadata": {
    "collapsed": true,
    "slideshow": {
     "slide_type": "fragment"
    }
   },
   "outputs": [],
   "source": [
    "from flask import Flask\n",
    "\n",
    "app = Flask(__name__)\n",
    "\n",
    "@app.route('/')\n",
    "def hello_world():\n",
    "    return 'Hello from Flask!'\n",
    "\n",
    "if __name__ == '__main__':\n",
    "    app.run()"
   ]
  },
  {
   "cell_type": "code",
   "execution_count": null,
   "metadata": {
    "collapsed": true,
    "slideshow": {
     "slide_type": "fragment"
    }
   },
   "outputs": [],
   "source": [
    "from flask import Flask\n",
    "\n",
    "app = Flask(__name__)\n",
    "\n",
    "@app.route('/')\n",
    "def show_ribbon():\n",
    "    return '<a href=\"https://github.com/jakebrinkmann/2015-PUG-flask-data-vis\"><img style=\"position: absolute; top: 0; right: 0; border: 0;\" src=\"https://camo.githubusercontent.com/652c5b9acfaddf3a9c326fa6bde407b87f7be0f4/68747470733a2f2f73332e616d617a6f6e6177732e636f6d2f6769746875622f726962626f6e732f666f726b6d655f72696768745f6f72616e67655f6666373630302e706e67\" alt=\"Fork me on GitHub\" data-canonical-src=\"https://s3.amazonaws.com/github/ribbons/forkme_right_orange_ff7600.png\"></a>'\n",
    "\n",
    "if __name__ == '__main__':\n",
    "    app.run()"
   ]
  },
  {
   "cell_type": "markdown",
   "metadata": {
    "slideshow": {
     "slide_type": "subslide"
    }
   },
   "source": [
    "# Debugging\n",
    "\n",
    "    git checkout version-0.2"
   ]
  },
  {
   "cell_type": "code",
   "execution_count": null,
   "metadata": {
    "collapsed": false,
    "slideshow": {
     "slide_type": "fragment"
    }
   },
   "outputs": [],
   "source": [
    "from flask import Flask\n",
    "\n",
    "app = Flask(__name__)\n",
    "\n",
    "@app.route('/')\n",
    "def create_error():\n",
    "    return 10 + 'a'\n",
    "\n",
    "if __name__ == '__main__':\n",
    "    app.run(debug=True)"
   ]
  },
  {
   "cell_type": "markdown",
   "metadata": {
    "slideshow": {
     "slide_type": "skip"
    }
   },
   "source": [
    "---\n",
    "\n",
    "# BASICS ======================================"
   ]
  },
  {
   "cell_type": "markdown",
   "metadata": {
    "slideshow": {
     "slide_type": "slide"
    }
   },
   "source": [
    "# Route Handling\n",
    "\n",
    "    git checkout version-0.3\n",
    "\n",
    "Flask can also handle more complex redirects, and request routes"
   ]
  },
  {
   "cell_type": "code",
   "execution_count": null,
   "metadata": {
    "collapsed": true,
    "slideshow": {
     "slide_type": "fragment"
    }
   },
   "outputs": [],
   "source": [
    "from flask import Flask, url_for\n",
    "\n",
    "@app.route('/ribbon')\n",
    "def show_ribbon():\n",
    "    return '<a href=\"https://github.com/jakebrinkmann/2015-PUG-flask-data-vis\"><img style=\"position: absolute; top: 0; right: 0; border: 0;\" src=\"https://camo.githubusercontent.com/652c5b9acfaddf3a9c326fa6bde407b87f7be0f4/68747470733a2f2f73332e616d617a6f6e6177732e636f6d2f6769746875622f726962626f6e732f666f726b6d655f72696768745f6f72616e67655f6666373630302e706e67\" alt=\"Fork me on GitHub\" data-canonical-src=\"https://s3.amazonaws.com/github/ribbons/forkme_right_orange_ff7600.png\"></a>'\n",
    "\n",
    "\n",
    "@app.route('/')\n",
    "def hello_world():\n",
    "    return '<a href=\"'+ url_for('show_ribbon') +'\">Click Here</a>'\n",
    "\n",
    "if __name__ == '__main__':\n",
    "    app.run()"
   ]
  },
  {
   "cell_type": "markdown",
   "metadata": {
    "slideshow": {
     "slide_type": "subslide"
    }
   },
   "source": [
    "# App Layout\n",
    "\n",
    "    git checkout version-0.4"
   ]
  },
  {
   "cell_type": "code",
   "execution_count": null,
   "metadata": {
    "collapsed": true,
    "slideshow": {
     "slide_type": "fragment"
    }
   },
   "outputs": [],
   "source": [
    "! mkdir app\n",
    "! mkdir app/static\n",
    "! mkdir app/templates\n",
    "! mkdir tmp\n",
    "! touch app/__init__.py\n",
    "! touch app/views.py\n",
    "! touch run.py"
   ]
  },
  {
   "cell_type": "markdown",
   "metadata": {
    "slideshow": {
     "slide_type": "fragment"
    }
   },
   "source": [
    "    app/__init__.py"
   ]
  },
  {
   "cell_type": "code",
   "execution_count": null,
   "metadata": {
    "collapsed": false,
    "slideshow": {
     "slide_type": "-"
    }
   },
   "outputs": [],
   "source": [
    "from flask import Flask\n",
    "\n",
    "app = Flask(__name__)\n",
    "from app import views"
   ]
  },
  {
   "cell_type": "markdown",
   "metadata": {
    "slideshow": {
     "slide_type": "fragment"
    }
   },
   "source": [
    "    app/views.py"
   ]
  },
  {
   "cell_type": "code",
   "execution_count": null,
   "metadata": {
    "collapsed": true
   },
   "outputs": [],
   "source": [
    "from app import app\n",
    "\n",
    "@app.route('/')\n",
    "@app.route('/index')\n",
    "def index():\n",
    "    return \"Hello, World!\""
   ]
  },
  {
   "cell_type": "markdown",
   "metadata": {
    "slideshow": {
     "slide_type": "fragment"
    }
   },
   "source": [
    "    run.py"
   ]
  },
  {
   "cell_type": "code",
   "execution_count": null,
   "metadata": {
    "collapsed": true
   },
   "outputs": [],
   "source": [
    "#!conda/bin/python\n",
    "from app import app\n",
    "app.run(debug=True)"
   ]
  },
  {
   "cell_type": "markdown",
   "metadata": {
    "collapsed": true,
    "slideshow": {
     "slide_type": "subslide"
    }
   },
   "source": [
    "# Templates\n",
    "\n",
    "    git checkout version-0.5"
   ]
  },
  {
   "cell_type": "code",
   "execution_count": null,
   "metadata": {
    "collapsed": true,
    "slideshow": {
     "slide_type": "fragment"
    }
   },
   "outputs": [],
   "source": [
    "from app import app\n",
    "\n",
    "@app.route('/')\n",
    "@app.route('/index')\n",
    "def index():\n",
    "    user = {'nickname': 'Dr. Robert'}  # fake user\n",
    "    return '''\n",
    "<html>\n",
    "  <head>\n",
    "    <title>Home Page</title>\n",
    "  </head>\n",
    "  <body>\n",
    "    <h1>Hello, ''' + user['nickname'] + '''</h1>\n",
    "  </body>\n",
    "</html>\n",
    "'''"
   ]
  },
  {
   "cell_type": "markdown",
   "metadata": {
    "slideshow": {
     "slide_type": "subslide"
    }
   },
   "source": [
    "# Jinja2 Template Engine\n",
    "\n",
    "To keep the logic of your application separate from the layout or presentation of your web pages things would be much better organized\n",
    "\n",
    "Jinja Templates are great, and the syntax is fairly straight forward. \n",
    "It is used internally by both:\n",
    "\n",
    "* flask\n",
    "* Jekyll (ruby)\n",
    "\n",
    "Useful for flask, but also useful for other HTML tasks, like sending emails with preset formating\n"
   ]
  },
  {
   "cell_type": "markdown",
   "metadata": {
    "slideshow": {
     "slide_type": "subslide"
    }
   },
   "source": [
    "    app/templates/index.html"
   ]
  },
  {
   "cell_type": "code",
   "execution_count": null,
   "metadata": {
    "collapsed": true
   },
   "outputs": [],
   "source": [
    "<html>\n",
    "  <head>\n",
    "    <title>{{ title }} - microblog</title>\n",
    "  </head>\n",
    "  <body>\n",
    "      <h1>Hello, {{ user.nickname }}!</h1>\n",
    "  </body>\n",
    "</html>"
   ]
  },
  {
   "cell_type": "markdown",
   "metadata": {
    "slideshow": {
     "slide_type": "fragment"
    }
   },
   "source": [
    "    app/views.py"
   ]
  },
  {
   "cell_type": "code",
   "execution_count": null,
   "metadata": {
    "collapsed": true
   },
   "outputs": [],
   "source": [
    "from flask import render_template\n",
    "from app import app\n",
    "\n",
    "@app.route('/')\n",
    "@app.route('/index')\n",
    "def index():\n",
    "    user = {'nickname': 'Dr. Robert'}  # fake user\n",
    "    return render_template('index.html',\n",
    "                           title='Home',\n",
    "                           user=user)"
   ]
  },
  {
   "cell_type": "markdown",
   "metadata": {
    "slideshow": {
     "slide_type": "fragment"
    }
   },
   "source": [
    "Control statements\n",
    "\n",
    "    app/templates/index.html"
   ]
  },
  {
   "cell_type": "code",
   "execution_count": null,
   "metadata": {
    "collapsed": true
   },
   "outputs": [],
   "source": [
    "<html>\n",
    "  <head>\n",
    "    {% if title %}\n",
    "    <title>{{ title }} - microblog</title>\n",
    "    {% else %}\n",
    "    <title>Welcome to microblog</title>\n",
    "    {% endif %}\n",
    "  </head>\n",
    "  <body>\n",
    "      <h1>Hello, {{ user.nickname }}!</h1>\n",
    "  </body>\n",
    "</html>"
   ]
  },
  {
   "cell_type": "markdown",
   "metadata": {
    "slideshow": {
     "slide_type": "fragment"
    }
   },
   "source": [
    "Loops, too\n",
    "\n",
    "    app/templates/index.html"
   ]
  },
  {
   "cell_type": "code",
   "execution_count": null,
   "metadata": {
    "collapsed": true
   },
   "outputs": [],
   "source": [
    "<html>\n",
    "  <head>\n",
    "    {% if title %}\n",
    "    <title>{{ title }} - microblog</title>\n",
    "    {% else %}\n",
    "    <title>Welcome to microblog</title>\n",
    "    {% endif %}\n",
    "  </head>\n",
    "  <body>\n",
    "    <h1>Hi, {{ user.nickname }}!</h1>\n",
    "    {% for post in posts %}\n",
    "    <div><p>{{ post.author.nickname }} says: <b>{{ post.body }}</b></p></div>\n",
    "    {% endfor %}\n",
    "  </body>\n",
    "</html>"
   ]
  },
  {
   "cell_type": "markdown",
   "metadata": {
    "slideshow": {
     "slide_type": "skip"
    }
   },
   "source": [
    "---\n",
    "\n",
    "# ADVANCED ====================================="
   ]
  },
  {
   "cell_type": "markdown",
   "metadata": {
    "slideshow": {
     "slide_type": "slide"
    }
   },
   "source": [
    "# Inputs & Forms\n",
    "\n",
    "    git checkout version-0.6"
   ]
  },
  {
   "cell_type": "markdown",
   "metadata": {
    "slideshow": {
     "slide_type": "fragment"
    }
   },
   "source": [
    "Add variable parts to a URL.  \n",
    "\n",
    "Optionall converters exist:\n",
    "\n",
    "+ int -\taccepts integers\n",
    "+ float - like int but for floating point values\n",
    "+ path - like the default but also accepts slashes"
   ]
  },
  {
   "cell_type": "code",
   "execution_count": null,
   "metadata": {
    "collapsed": true,
    "slideshow": {
     "slide_type": "fragment"
    }
   },
   "outputs": [],
   "source": [
    "@app.route('/user/<username>')\n",
    "def show_user_profile(username):\n",
    "    # show the user profile for that user\n",
    "    return 'User %s' % username\n",
    "\n",
    "@app.route('/post/<int:post_id>')\n",
    "def show_post(post_id):\n",
    "    # show the post with the given id, the id is an integer\n",
    "    return 'Post %d' % post_id"
   ]
  },
  {
   "cell_type": "markdown",
   "metadata": {
    "slideshow": {
     "slide_type": "subslide"
    }
   },
   "source": [
    "HTTP Methods\n"
   ]
  },
  {
   "cell_type": "code",
   "execution_count": null,
   "metadata": {
    "collapsed": true,
    "slideshow": {
     "slide_type": "fragment"
    }
   },
   "outputs": [],
   "source": [
    "@app.route('/login', methods=['POST', 'GET'])\n",
    "def login():\n",
    "    error = None\n",
    "    if request.method == 'POST':\n",
    "        if valid_login(request.form['username'],\n",
    "                       request.form['password']):\n",
    "            return log_the_user_in(request.form['username'])\n",
    "        else:\n",
    "            error = 'Invalid username/password'\n",
    "    # the code below is executed if the request method\n",
    "    # was GET or the credentials were invalid\n",
    "    return render_template('login.html', error=error)"
   ]
  },
  {
   "cell_type": "markdown",
   "metadata": {
    "slideshow": {
     "slide_type": "subslide"
    }
   },
   "source": [
    "Beware hackers"
   ]
  },
  {
   "cell_type": "code",
   "execution_count": 1,
   "metadata": {
    "collapsed": false,
    "slideshow": {
     "slide_type": "-"
    }
   },
   "outputs": [
    {
     "data": {
      "text/plain": [
       "Markup(u'<strong>Hello &lt;blink&gt;hacker&lt;/blink&gt;!</strong>')"
      ]
     },
     "execution_count": 1,
     "metadata": {},
     "output_type": "execute_result"
    }
   ],
   "source": [
    "from flask import Markup\n",
    "Markup('<strong>Hello %s!</strong>') % '<blink>hacker</blink>'"
   ]
  },
  {
   "cell_type": "markdown",
   "metadata": {
    "slideshow": {
     "slide_type": "skip"
    }
   },
   "source": [
    "---"
   ]
  },
  {
   "cell_type": "markdown",
   "metadata": {
    "slideshow": {
     "slide_type": "subslide"
    }
   },
   "source": [
    "# Static Plotting\n",
    "\n",
    "+ matplotlib\n",
    "+ ggplot\n",
    "+ seaborn"
   ]
  },
  {
   "cell_type": "code",
   "execution_count": null,
   "metadata": {
    "collapsed": true,
    "slideshow": {
     "slide_type": "fragment"
    }
   },
   "outputs": [],
   "source": [
    "from flask import Flask, make_response\n",
    "from matplotlib.backends.backend_agg import FigureCanvasAgg as FigureCanvas\n",
    "from matplotlib.figure import Figure\n",
    "\n",
    "\n",
    "app = Flask(__name__)\n",
    "\n",
    "\n",
    "@app.route('/plot.png')\n",
    "def plot():\n",
    "    fig = Figure()\n",
    "    axis = fig.add_subplot(1, 1, 1)\n",
    "\n",
    "    xs = range(100)\n",
    "    ys = [random.randint(1, 50) for x in xs]\n",
    "\n",
    "    axis.plot(xs, ys)\n",
    "    canvas = FigureCanvas(fig)\n",
    "    output = StringIO.StringIO()\n",
    "    canvas.print_png(output)\n",
    "    response = make_response(output.getvalue())\n",
    "    response.mimetype = 'image/png'\n",
    "    return response"
   ]
  },
  {
   "cell_type": "markdown",
   "metadata": {
    "slideshow": {
     "slide_type": "subslide"
    }
   },
   "source": [
    "# Interactive Plotting\n",
    "\n",
    "+ bokeh\n",
    "+ mpld3\n",
    "+ plotly\n"
   ]
  },
  {
   "cell_type": "code",
   "execution_count": null,
   "metadata": {
    "collapsed": true,
    "slideshow": {
     "slide_type": "fragment"
    }
   },
   "outputs": [],
   "source": [
    "from bokeh.embed import components\n",
    "from bokeh.plotting import figure\n",
    "\n",
    "@app.route('/plot/')\n",
    "def hello():\n",
    "    fig = figure(title=\"Polynomial\")\n",
    "    fig.line(x, [i ** 2 for i in x], color=color, line_width=2)\n",
    "    script, div = components(fig)\n",
    "    return render_template(\n",
    "        'bokeh.html',\n",
    "        script=script,\n",
    "        div=div,\n",
    "    )"
   ]
  },
  {
   "cell_type": "code",
   "execution_count": null,
   "metadata": {
    "collapsed": true,
    "slideshow": {
     "slide_type": "fragment"
    }
   },
   "outputs": [],
   "source": [
    "<!DOCTYPE html>\n",
    "<html lang=\"en\">\n",
    "    <head>\n",
    "        <meta charset=\"utf-8\">\n",
    "        <title>Bokeh Plot</title>\n",
    "       \n",
    "        <link rel=\"stylesheet\" href=\"http://cdn.pydata.org/bokeh/release/bokeh-0.9.1.min.css\" type=\"text/css\" />\n",
    "        <script type=\"text/javascript\" src=\"http://cdn.pydata.org/bokeh/release/bokeh-0.9.1.min.js\"></script>\n",
    "  </head>\n",
    "  <body>\n",
    "      {{ div | safe }}\n",
    "      {{ script | safe }}\n",
    "  </body>\n",
    "</html>"
   ]
  },
  {
   "cell_type": "markdown",
   "metadata": {
    "slideshow": {
     "slide_type": "skip"
    }
   },
   "source": [
    "---\n",
    "\n",
    "# MASTERY ====================================="
   ]
  },
  {
   "cell_type": "markdown",
   "metadata": {
    "slideshow": {
     "slide_type": "slide"
    }
   },
   "source": [
    "# Javascript Plotting\n",
    "\n",
    "+ d3\n",
    "+ nvd3\n",
    "+ dygraphs\n",
    "+ Google Charts"
   ]
  },
  {
   "cell_type": "code",
   "execution_count": null,
   "metadata": {
    "collapsed": true,
    "slideshow": {
     "slide_type": "fragment"
    }
   },
   "outputs": [],
   "source": [
    "<html>\n",
    "<head>\n",
    "    <meta charset=\"utf-8\">\n",
    "    <link href=\"../build/nv.d3.css\" rel=\"stylesheet\" type=\"text/css\">\n",
    "    <script src=\"https://cdnjs.cloudflare.com/ajax/libs/d3/3.5.2/d3.min.js\" charset=\"utf-8\"></script>\n",
    "    <script src=\"https://raw.githubusercontent.com/nvd3-community/nvd3/gh-pages/build/nv.d3.js\"></script>\n",
    "\n",
    "    <style>\n",
    "        text {\n",
    "            font: 12px sans-serif;\n",
    "        }\n",
    "        svg {\n",
    "            display: block;\n",
    "        }\n",
    "        html, body, #chart1, svg {\n",
    "            margin: 0px;\n",
    "            padding: 0px;\n",
    "            width: 100%;\n",
    "            height: 100%;\n",
    "        }\n",
    "    </style>\n",
    "</head>\n",
    "<body>\n",
    "\n",
    "<div id=\"chart1\">\n",
    "    <svg></svg>\n",
    "</div>\n",
    "\n",
    "<script>\n",
    "    // Wrapping in nv.addGraph allows for '0 timeout render', stores rendered charts in nv.graphs,\n",
    "    // and may do more in the future... it's NOT required\n",
    "    nv.addGraph(function() {\n",
    "        var chart = nv.models.cumulativeLineChart()\n",
    "            .useInteractiveGuideline(true)\n",
    "            .x(function(d) { return d[0] })\n",
    "            .y(function(d) { return d[1]/100 })\n",
    "            .color(d3.scale.category10().range())\n",
    "            .average(function(d) { return d.mean/100; })\n",
    "            .duration(300)\n",
    "            .clipVoronoi(false);\n",
    "        chart.dispatch.on('renderEnd', function() {\n",
    "            console.log('render complete: cumulative line with guide line');\n",
    "        });\n",
    "        chart.xAxis.tickFormat(function(d) {\n",
    "            return d3.time.format('%m/%d/%y')(new Date(d))\n",
    "        });\n",
    "        chart.yAxis.tickFormat(d3.format(',.1%'));\n",
    "        d3.select('#chart1 svg')\n",
    "            .datum({{ data | json | safe }})\n",
    "            .call(chart);\n",
    "        //TODO: Figure out a good way to do this automatically\n",
    "        nv.utils.windowResize(chart.update);\n",
    "        chart.dispatch.on('stateChange', function(e) { nv.log('New State:', JSON.stringify(e)); });\n",
    "        chart.state.dispatch.on('change', function(state){\n",
    "            nv.log('state', JSON.stringify(state));\n",
    "        });\n",
    "        return chart;\n",
    "    });\n",
    "    \n",
    "    \n",
    "</script>\n",
    "</body></html>"
   ]
  },
  {
   "cell_type": "markdown",
   "metadata": {
    "slideshow": {
     "slide_type": "subslide"
    }
   },
   "source": [
    "# Javascript Awesome\n",
    "\n",
    "+ Bootstrap, Foundation, etc.\n",
    "+ JQUERY\n",
    "+ AJAX"
   ]
  },
  {
   "cell_type": "code",
   "execution_count": null,
   "metadata": {
    "collapsed": true,
    "slideshow": {
     "slide_type": "fragment"
    }
   },
   "outputs": [],
   "source": [
    "<!DOCTYPE html>\n",
    "<html lang=\"en\">\n",
    "  <head>\n",
    "    <meta charset=\"utf-8\">\n",
    "    <meta http-equiv=\"X-UA-Compatible\" content=\"IE=edge\">\n",
    "    <meta name=\"viewport\" content=\"width=device-width, initial-scale=1\">\n",
    "    <!-- The above 3 meta tags *must* come first in the head; any other head content must come *after* these tags -->\n",
    "    <meta name=\"description\" content=\"\">\n",
    "    <meta name=\"author\" content=\"\">\n",
    "    <link rel=\"icon\" href=\"../../favicon.ico\">\n",
    "\n",
    "    <title>Starter Template for Bootstrap</title>\n",
    "\n",
    "    <!-- Bootstrap core CSS -->\n",
    "    <link href=\"../../dist/css/bootstrap.min.css\" rel=\"stylesheet\">\n",
    "\n",
    "    <!-- Custom styles for this template -->\n",
    "    <link href=\"starter-template.css\" rel=\"stylesheet\">\n",
    "\n",
    "    <!-- Just for debugging purposes. Don't actually copy these 2 lines! -->\n",
    "    <!--[if lt IE 9]><script src=\"../../assets/js/ie8-responsive-file-warning.js\"></script><![endif]-->\n",
    "    <script src=\"../../assets/js/ie-emulation-modes-warning.js\"></script>\n",
    "\n",
    "    <!-- HTML5 shim and Respond.js for IE8 support of HTML5 elements and media queries -->\n",
    "    <!--[if lt IE 9]>\n",
    "      <script src=\"https://oss.maxcdn.com/html5shiv/3.7.2/html5shiv.min.js\"></script>\n",
    "      <script src=\"https://oss.maxcdn.com/respond/1.4.2/respond.min.js\"></script>\n",
    "    <![endif]-->\n",
    "  </head>\n",
    "\n",
    "  <body>\n",
    "\n",
    "    <nav class=\"navbar navbar-inverse navbar-fixed-top\">\n",
    "      <div class=\"container\">\n",
    "        <div class=\"navbar-header\">\n",
    "          <button type=\"button\" class=\"navbar-toggle collapsed\" data-toggle=\"collapse\" data-target=\"#navbar\" aria-expanded=\"false\" aria-controls=\"navbar\">\n",
    "            <span class=\"sr-only\">Toggle navigation</span>\n",
    "            <span class=\"icon-bar\"></span>\n",
    "            <span class=\"icon-bar\"></span>\n",
    "            <span class=\"icon-bar\"></span>\n",
    "          </button>\n",
    "          <a class=\"navbar-brand\" href=\"#\">Project name</a>\n",
    "        </div>\n",
    "        <div id=\"navbar\" class=\"collapse navbar-collapse\">\n",
    "          <ul class=\"nav navbar-nav\">\n",
    "            <li class=\"active\"><a href=\"#\">Home</a></li>\n",
    "            <li><a href=\"#about\">About</a></li>\n",
    "            <li><a href=\"#contact\">Contact</a></li>\n",
    "          </ul>\n",
    "        </div><!--/.nav-collapse -->\n",
    "      </div>\n",
    "    </nav>\n",
    "\n",
    "    <div class=\"container\">\n",
    "\n",
    "      <div class=\"starter-template\">\n",
    "        <h1>Bootstrap starter template</h1>\n",
    "        <p class=\"lead\">Use this document as a way to quickly start any new project.<br> All you get is this text and a mostly barebones HTML document.</p>\n",
    "      </div>\n",
    "\n",
    "    </div><!-- /.container -->\n",
    "\n",
    "\n",
    "    <!-- Bootstrap core JavaScript\n",
    "    ================================================== -->\n",
    "    <!-- Placed at the end of the document so the pages load faster -->\n",
    "    <script src=\"https://ajax.googleapis.com/ajax/libs/jquery/1.11.3/jquery.min.js\"></script>\n",
    "    <script src=\"../../dist/js/bootstrap.min.js\"></script>\n",
    "    <!-- IE10 viewport hack for Surface/desktop Windows 8 bug -->\n",
    "    <script src=\"../../assets/js/ie10-viewport-bug-workaround.js\"></script>\n",
    "  </body>\n",
    "</html>\n"
   ]
  },
  {
   "cell_type": "markdown",
   "metadata": {
    "slideshow": {
     "slide_type": "slide"
    }
   },
   "source": [
    "# Depolyment\n",
    "\n",
    "Couple of options for deployment\n",
    "\n",
    "+ In-App\n",
    "+ pythonanywhere, heroku\n",
    "+ Apache2, nginx, RPi server, etc."
   ]
  },
  {
   "cell_type": "markdown",
   "metadata": {
    "slideshow": {
     "slide_type": "fragment"
    }
   },
   "source": [
    "# In-App\n",
    "\n",
    "    app.run(port='0.0.0.0', debug=False)"
   ]
  },
  {
   "cell_type": "markdown",
   "metadata": {
    "slideshow": {
     "slide_type": "fragment"
    }
   },
   "source": [
    "# pythonanywhere, heroku\n",
    "\n",
    "Leave out the `app.run()` call, and setup configurations as directed by the host\n",
    "\n",
    "[pythonanywhere](https://www.pythonanywhere.com/details/flask_hosting)\n",
    "\n",
    "[heroku](https://devcenter.heroku.com/articles/getting-started-with-python-o)\n",
    "\n"
   ]
  },
  {
   "cell_type": "markdown",
   "metadata": {
    "slideshow": {
     "slide_type": "fragment"
    }
   },
   "source": [
    "# Setting up Apache \n",
    "\n",
    "    FcgidIPCDir /tmp\n",
    "    AddHandler fcgid-script .fcgi\n",
    "    <VirtualHost *:80>\n",
    "        DocumentRoot /var/www/datavis/app/static\n",
    "        Alias /static /var/www/datavis/app/static\n",
    "        ScriptAlias / /var/www/datavis/runp-mysql.fcgi/\n",
    "    </VirtualHost>"
   ]
  },
  {
   "cell_type": "markdown",
   "metadata": {
    "slideshow": {
     "slide_type": "skip"
    }
   },
   "source": [
    "---\n",
    "\n",
    "# CONCLUSIONS =================================="
   ]
  },
  {
   "cell_type": "markdown",
   "metadata": {
    "slideshow": {
     "slide_type": "slide"
    }
   },
   "source": [
    "# Common Pitfalls\n",
    "\n",
    "Things which seemed to pop up reliably to trip me up early on"
   ]
  },
  {
   "cell_type": "markdown",
   "metadata": {
    "slideshow": {
     "slide_type": "fragment"
    }
   },
   "source": [
    "## Flask\n",
    "\n",
    "+ Using loops, other Jinja controls\n",
    "+ Keeping logic seperate from UI/UX\n",
    "+ Pre-process & ready the data"
   ]
  },
  {
   "cell_type": "markdown",
   "metadata": {
    "slideshow": {
     "slide_type": "fragment"
    }
   },
   "source": [
    "## Javascript\n",
    "\n",
    "+ Javascript is complied language, and is getting faster\n",
    "+ + Out-source some processes to the client browser\n",
    "+ Imports can overwrite, or depend on, other imports\n",
    "+ "
   ]
  },
  {
   "cell_type": "markdown",
   "metadata": {
    "slideshow": {
     "slide_type": "fragment"
    }
   },
   "source": [
    "## Website\n",
    "\n",
    "+ FLask is best for when you need the server backend\n",
    "+ Jekyll for static webpages\n",
    "+ Drupal for multi-user content"
   ]
  },
  {
   "cell_type": "markdown",
   "metadata": {
    "slideshow": {
     "slide_type": "slide"
    }
   },
   "source": [
    "# References\n",
    "\n",
    "[flask docs](http://flask.pocoo.org/docs/0.10/quickstart/)\n",
    "\n",
    "[The Flask Mega-Tutorial](http://blog.miguelgrinberg.com/post/the-flask-mega-tutorial-part-i-hello-world)\n"
   ]
  }
 ],
 "metadata": {
  "celltoolbar": "Slideshow",
  "kernelspec": {
   "display_name": "Python 2",
   "language": "python",
   "name": "python2"
  },
  "language_info": {
   "codemirror_mode": {
    "name": "ipython",
    "version": 2
   },
   "file_extension": ".py",
   "mimetype": "text/x-python",
   "name": "python",
   "nbconvert_exporter": "python",
   "pygments_lexer": "ipython2",
   "version": "2.7.10"
  }
 },
 "nbformat": 4,
 "nbformat_minor": 0
}
