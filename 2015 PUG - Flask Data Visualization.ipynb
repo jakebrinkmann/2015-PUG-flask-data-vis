{
 "cells": [
  {
   "cell_type": "markdown",
   "metadata": {
    "slideshow": {
     "slide_type": "slide"
    }
   },
   "source": [
    "# Python, Flask and Web-visualizations\n",
    "## GSFC PUG - OCT 2015\n",
    "\n",
    "Welcome, [Goddard Python User's Group](https://lists.nasa.gov/mailman/listinfo/gsfc-python-users)!  \n",
    "\n",
    "This guide outlines the steps we took in our **October 6th, 2015 Meetup** to write a web application, for data visualization, in [Python](http://python.org/) using the [Flask](http://flask.pocoo.org/) microframework."
   ]
  },
  {
   "cell_type": "markdown",
   "metadata": {
    "slideshow": {
     "slide_type": "slide"
    }
   },
   "source": [
    "+ <h3>Setup</h3>\n",
    " + Hello World\n",
    " + URL Routing\n",
    " + Templates\n",
    "+ <h3>User Inputs</h3>\n",
    " + URL Variable Inputs\n",
    " + Forms (Flask-WTForms)\n",
    "+ <h3>Data Display</h3>\n",
    " + Static (matplotlib, ggplot, seaborn)\n",
    " + Interactive (bokeh, mpld3, plotly)\n",
    "+ <h3>Upgaded Interface</h3>\n",
    " + Layouts (Bootstrap, Foundation)\n",
    " + Document Object Model (jQuery)\n",
    " + Call backs (AJAX, Databases)\n",
    " + Custom visualizations (d3.js, nvd3)\n"
   ]
  },
  {
   "cell_type": "markdown",
   "metadata": {
    "slideshow": {
     "slide_type": "notes"
    }
   },
   "source": [
    "* Setup, User Inputs, and Static plotting all deal with the \"Backend\", or Server\n",
    " * The Server is where flask is very handy\n",
    "* Interactive display with python packages begins the \"Frontend\", or Client\n",
    " * The Client is really where JavaScript is more useful"
   ]
  },
  {
   "cell_type": "markdown",
   "metadata": {
    "slideshow": {
     "slide_type": "subslide"
    }
   },
   "source": [
    "* What is flask?\n",
    " * Flask takes care of the \"Web Server Gateway Interface\" (WSGI)\n",
    " \n",
    "<img src=\"imgs/wsgi_example.png\"></img>"
   ]
  },
  {
   "cell_type": "markdown",
   "metadata": {
    "slideshow": {
     "slide_type": "subslide"
    }
   },
   "source": [
    "When a user makes a request in the client, `flask` will bring you back into the python program on the server side. \n",
    "\n",
    "If a user asks for a yearly average dataset, you can use `pandas` to provide the sampling, and `flask` again helps with sending the data back to the user. \n",
    "\n",
    "Anything you can do in python, you are suddenly able to interact with via the `flask` module. \n",
    "\n",
    "There are also `flask` add-ons, which handle even more amazing tasks, like local language translataion, thwarting hackers, and creating beautiful barebones websites in seconds. \n",
    "\n",
    "Let's get started!"
   ]
  },
  {
   "cell_type": "markdown",
   "metadata": {
    "slideshow": {
     "slide_type": "slide"
    }
   },
   "source": [
    "# Follow Along\n",
    "\n",
    "I've tried to orgainze all the codes here:\n",
    "\n",
    "    git clone https://github.com/jakebrinkmann/2015-PUG-flask-data-vis.git \n",
    "    cd 2015-PUG-flask-data-vis\n",
    "    "
   ]
  },
  {
   "cell_type": "markdown",
   "metadata": {
    "slideshow": {
     "slide_type": "subslide"
    }
   },
   "source": [
    "# Dependencies\n",
    "\n",
    "Starting off, we will need:  \n",
    "\n",
    "* python 2.7\n",
    "* flask\n",
    "* An up-to-date modern browser\n",
    "\n",
    "I will use other packages along the way, but these are really all you need"
   ]
  },
  {
   "cell_type": "markdown",
   "metadata": {
    "slideshow": {
     "slide_type": "subslide"
    }
   },
   "source": [
    "# Assumptions\n",
    "\n",
    "* You are using a UNIX-based OS\n",
    "* You have not used flask before\n",
    "* You have little or no web-developer experience\n",
    "\n",
    "If you have used flask before, or know web development... let's make the next talk together!"
   ]
  },
  {
   "cell_type": "markdown",
   "metadata": {
    "slideshow": {
     "slide_type": "slide"
    }
   },
   "source": [
    "---\n",
    "\n",
    "# Getting Started\n",
    "\n",
    "    git checkout version-0.1\n",
    "\n",
    " + Hello World\n",
    " + URL Routing\n",
    " + Templates\n",
    "\n",
    "---\n",
    "\n"
   ]
  },
  {
   "cell_type": "markdown",
   "metadata": {
    "slideshow": {
     "slide_type": "subslide"
    }
   },
   "source": [
    "# Flask Hello World\n",
    "\n",
    "    git checkout tags/v0.1.0\n",
    "\n",
    "Flask is quick to get running"
   ]
  },
  {
   "cell_type": "markdown",
   "metadata": {
    "slideshow": {
     "slide_type": "fragment"
    }
   },
   "source": [
    "    2015-PUG-flask-data-vis/run.py"
   ]
  },
  {
   "cell_type": "code",
   "execution_count": null,
   "metadata": {
    "collapsed": true,
    "slideshow": {
     "slide_type": "-"
    }
   },
   "outputs": [],
   "source": [
    "from flask import Flask\n",
    "\n",
    "app = Flask(__name__) # WSGI application\n",
    "\n",
    "@app.route('/')\n",
    "def hello_world():\n",
    "    return 'Hello from Flask!'\n",
    "\n",
    "if __name__ == '__main__':\n",
    "    app.run()"
   ]
  },
  {
   "cell_type": "markdown",
   "metadata": {
    "slideshow": {
     "slide_type": "fragment"
    }
   },
   "source": [
    "Congratulations, your first web app! It will be running at http://localhost:5000 (only accessible by your machine)"
   ]
  },
  {
   "cell_type": "markdown",
   "metadata": {
    "slideshow": {
     "slide_type": "subslide"
    }
   },
   "source": [
    "Flask can generate HTML from within Python\n",
    "\n",
    "    git checkout tags/v0.1.1"
   ]
  },
  {
   "cell_type": "code",
   "execution_count": null,
   "metadata": {
    "collapsed": true,
    "slideshow": {
     "slide_type": "fragment"
    }
   },
   "outputs": [],
   "source": [
    "from flask import Flask\n",
    "\n",
    "app = Flask(__name__)\n",
    "\n",
    "@app.route('/')\n",
    "def show_html():\n",
    "    return '<h1>Big heading</h1><p>And some <b>paragraph</b> text</p>'\n",
    "\n",
    "if __name__ == '__main__':\n",
    "    app.run()"
   ]
  },
  {
   "cell_type": "markdown",
   "metadata": {
    "slideshow": {
     "slide_type": "subslide"
    }
   },
   "source": [
    "# Debugging\n",
    "\n",
    "    git checkout tags/v0.1.2\n",
    "    \n",
    "If you enable debug support the server will reload itself on code changes, and it will also provide you with a helpful debugger if things go wrong"
   ]
  },
  {
   "cell_type": "code",
   "execution_count": null,
   "metadata": {
    "collapsed": false,
    "slideshow": {
     "slide_type": "fragment"
    }
   },
   "outputs": [],
   "source": [
    "from flask import Flask\n",
    "\n",
    "app = Flask(__name__)\n",
    "\n",
    "@app.route('/')\n",
    "def create_error():\n",
    "    return 'a %s' % a\n",
    "\n",
    "if __name__ == '__main__':\n",
    "    app.run(debug=True)"
   ]
  },
  {
   "cell_type": "markdown",
   "metadata": {
    "slideshow": {
     "slide_type": "subslide"
    }
   },
   "source": [
    "# <span style=\"color: red\">Warning</span>\n",
    "\n",
    "The interactive debugger allows the execution of arbitrary code.  \n",
    "This makes it a major security risk and therefore it must never be used on production machines.\n",
    "\n",
    "\n",
    "    app.run(debug=os.environ.get('DEBUG', False))\n",
    "    "
   ]
  },
  {
   "cell_type": "markdown",
   "metadata": {
    "slideshow": {
     "slide_type": "subslide"
    }
   },
   "source": [
    "# Route Handling\n",
    "\n",
    "    git checkout tags/v0.1.3\n",
    "\n",
    "Flask can also handle more complex redirects, and request routes"
   ]
  },
  {
   "cell_type": "code",
   "execution_count": null,
   "metadata": {
    "collapsed": true,
    "slideshow": {
     "slide_type": "fragment"
    }
   },
   "outputs": [],
   "source": [
    "from flask import Flask, url_for\n",
    "\n",
    "app = Flask(__name__)\n",
    "\n",
    "@app.route('/proj')\n",
    "def projects():\n",
    "    return '<h1>Project Page</h1><p><ul><li>PUG Data Visualization</li></ul></p>'\n",
    "\n",
    "\n",
    "@app.route('/')\n",
    "def hello_world():\n",
    "    return '<a href=\"'+ url_for('projects') +'\">Projects Page</a>'\n",
    "\n",
    "if __name__ == '__main__':\n",
    "    app.run()"
   ]
  },
  {
   "cell_type": "markdown",
   "metadata": {
    "slideshow": {
     "slide_type": "subslide"
    }
   },
   "source": [
    "# App Layout\n",
    "\n",
    "    git checkout tags/v0.1.4\n",
    "    \n",
    "It is important to seperate the *presentation* from the *logic*\n"
   ]
  },
  {
   "cell_type": "code",
   "execution_count": null,
   "metadata": {
    "collapsed": true,
    "slideshow": {
     "slide_type": "fragment"
    }
   },
   "outputs": [],
   "source": [
    "! mkdir app\n",
    "! mkdir app/static\n",
    "! mkdir app/templates\n",
    "! mkdir tmp\n",
    "! touch app/__init__.py\n",
    "! touch app/views.py\n",
    "! touch run.py"
   ]
  },
  {
   "cell_type": "markdown",
   "metadata": {
    "slideshow": {
     "slide_type": "subslide"
    }
   },
   "source": [
    "     2015-PUG-flask-data-vis/app/views.py"
   ]
  },
  {
   "cell_type": "code",
   "execution_count": null,
   "metadata": {
    "collapsed": true
   },
   "outputs": [],
   "source": [
    "from app import app\n",
    "\n",
    "@app.route('/')\n",
    "@app.route('/index')\n",
    "def index():\n",
    "    return \"Hello, World!\""
   ]
  },
  {
   "cell_type": "markdown",
   "metadata": {
    "slideshow": {
     "slide_type": "subslide"
    }
   },
   "source": [
    "     2015-PUG-flask-data-vis/app/__init__.py"
   ]
  },
  {
   "cell_type": "code",
   "execution_count": null,
   "metadata": {
    "collapsed": false,
    "slideshow": {
     "slide_type": "-"
    }
   },
   "outputs": [],
   "source": [
    "from flask import Flask\n",
    "\n",
    "app = Flask(__name__)\n",
    "from app import views"
   ]
  },
  {
   "cell_type": "markdown",
   "metadata": {
    "slideshow": {
     "slide_type": "subslide"
    }
   },
   "source": [
    "     2015-PUG-flask-data-vis/run.py"
   ]
  },
  {
   "cell_type": "code",
   "execution_count": null,
   "metadata": {
    "collapsed": false
   },
   "outputs": [],
   "source": [
    "from app import app\n",
    "app.run(debug=True)"
   ]
  },
  {
   "cell_type": "markdown",
   "metadata": {
    "collapsed": true,
    "slideshow": {
     "slide_type": "subslide"
    }
   },
   "source": [
    "# Templates\n",
    "\n",
    "    git checkout tags/v0.1.5"
   ]
  },
  {
   "cell_type": "markdown",
   "metadata": {
    "collapsed": true,
    "slideshow": {
     "slide_type": "fragment"
    }
   },
   "source": [
    "    2015-PUG-flask-data-vis/app/views.py "
   ]
  },
  {
   "cell_type": "code",
   "execution_count": null,
   "metadata": {
    "collapsed": true
   },
   "outputs": [],
   "source": [
    "from app import app\n",
    "\n",
    "@app.route('/')\n",
    "@app.route('/index')\n",
    "def index():\n",
    "    user = {'nickname': 'Dr. Robert'}  # fake user\n",
    "    return '''\n",
    "<html>\n",
    "  <head>\n",
    "    <title>Home Page</title>\n",
    "  </head>\n",
    "  <body>\n",
    "    <h1>Hello, ''' + user['nickname'] + '''</h1>\n",
    "  </body>\n",
    "</html>\n",
    "'''"
   ]
  },
  {
   "cell_type": "markdown",
   "metadata": {
    "slideshow": {
     "slide_type": "subslide"
    }
   },
   "source": [
    "# Jinja2 Template Engine\n",
    "\n",
    "Keeps the logic of your flask application separate from the layout of your web pages using place holders\n",
    "\n",
    "Jinja Templates are great, and the syntax is fairly straight forward\n",
    "\n",
    "Useful for flask, but also useful for other HTML tasks, like sending emails with preset formating\n",
    "\n",
    "    git checkout v0.1.6\n"
   ]
  },
  {
   "cell_type": "markdown",
   "metadata": {
    "slideshow": {
     "slide_type": "subslide"
    }
   },
   "source": [
    "Control statements, like if, for, and also access to object attributes\n",
    "\n",
    "      2015-PUG-flask-data-vis/app/templates/index.html"
   ]
  },
  {
   "cell_type": "code",
   "execution_count": null,
   "metadata": {
    "collapsed": true
   },
   "outputs": [],
   "source": [
    "<html>\n",
    "  <head>\n",
    "    {% if title %}\n",
    "    <title>{{ title }} - PUG</title>\n",
    "    {% else %}\n",
    "    <title>2015-PUG-Data-Vis</title>\n",
    "    {% endif %}\n",
    "  </head>\n",
    "  <body>\n",
    "      <h1>Hello, {{ user.nickname }}!</h1>\n",
    "  </body>\n",
    "</html>"
   ]
  },
  {
   "cell_type": "markdown",
   "metadata": {
    "slideshow": {
     "slide_type": "subslide"
    }
   },
   "source": [
    "    2015-PUG-flask-data-vis/app/views.py"
   ]
  },
  {
   "cell_type": "code",
   "execution_count": null,
   "metadata": {
    "collapsed": true
   },
   "outputs": [],
   "source": [
    "from flask import render_template\n",
    "from app import app\n",
    "\n",
    "@app.route('/')\n",
    "@app.route('/index')\n",
    "def index():\n",
    "    user = {'nickname': 'Dr. Robert'} \n",
    "    return render_template('index.html',\n",
    "                           title='Home',\n",
    "                           user=user)"
   ]
  },
  {
   "cell_type": "markdown",
   "metadata": {
    "slideshow": {
     "slide_type": "slide"
    }
   },
   "source": [
    "---\n",
    "\n",
    "# User Inputs\n",
    "\n",
    "    git checkout version-0.2\n",
    "\n",
    " + URL Variable Inputs\n",
    " + Forms (Flask-WTForms)\n",
    " \n",
    "---"
   ]
  },
  {
   "cell_type": "markdown",
   "metadata": {
    "slideshow": {
     "slide_type": "subslide"
    }
   },
   "source": [
    "<img src=\"imgs/click_stream.png\" style=\"align: center\"></img>"
   ]
  },
  {
   "cell_type": "markdown",
   "metadata": {
    "slideshow": {
     "slide_type": "subslide"
    }
   },
   "source": [
    "# URL Variables\n",
    "\n",
    "    git checkout tags/v0.2.0\n",
    "\n",
    "\n",
    "Add variable parts to a URL.  \n",
    "Optionall converters exist:\n",
    "\n",
    "+ int -\taccepts integers\n",
    "+ float - like int but for floating point values\n",
    "+ path - like the default but also accepts slashes"
   ]
  },
  {
   "cell_type": "markdown",
   "metadata": {
    "slideshow": {
     "slide_type": "subslide"
    }
   },
   "source": [
    "         2015-PUG-flask-data-vis/app/views.py"
   ]
  },
  {
   "cell_type": "code",
   "execution_count": null,
   "metadata": {
    "collapsed": true,
    "slideshow": {
     "slide_type": "-"
    }
   },
   "outputs": [],
   "source": [
    "from flask import render_template\n",
    "from app import app\n",
    "\n",
    "@app.route('/post/<int:post_id>')\n",
    "def show_post(post_id):\n",
    "    # show the post with the given id, the id is an integer\n",
    "    return 'Post %d' % post_id\n",
    "\n",
    "@app.route('/<username>')\n",
    "@app.route('/index/<username>')\n",
    "def index(username):\n",
    "    user = {'nickname': username}\n",
    "    return render_template('index.html',\n",
    "                           title='Home',\n",
    "                           user=user)"
   ]
  },
  {
   "cell_type": "markdown",
   "metadata": {
    "slideshow": {
     "slide_type": "subslide"
    }
   },
   "source": [
    "# HTML Forms\n",
    "\n",
    "Allow the user to pass inputs back to the server via HTTP \"POST\" method\n",
    "\n",
    "Using Flask-WTForms addon is very helpful for building input forms\n",
    "\n",
    "    git checkout tags/v0.2.1"
   ]
  },
  {
   "cell_type": "markdown",
   "metadata": {
    "slideshow": {
     "slide_type": "subslide"
    }
   },
   "source": [
    "     2015-PUG-flask-data-vis/config.py"
   ]
  },
  {
   "cell_type": "code",
   "execution_count": null,
   "metadata": {
    "collapsed": true
   },
   "outputs": [],
   "source": [
    "WTF_CSRF_ENABLED = True\n",
    "SECRET_KEY = 'SHHH!'"
   ]
  },
  {
   "cell_type": "markdown",
   "metadata": {},
   "source": [
    "     2015-PUG-flask-data-vis/app/__init__.py"
   ]
  },
  {
   "cell_type": "code",
   "execution_count": null,
   "metadata": {
    "collapsed": true
   },
   "outputs": [],
   "source": [
    "from flask import Flask\n",
    "\n",
    "app = Flask(__name__)\n",
    "app.config.from_object('config')\n",
    "from app import views"
   ]
  },
  {
   "cell_type": "markdown",
   "metadata": {
    "slideshow": {
     "slide_type": "subslide"
    }
   },
   "source": [
    "     2015-PUG-flask-data-vis/app/views.py"
   ]
  },
  {
   "cell_type": "code",
   "execution_count": null,
   "metadata": {
    "collapsed": true,
    "slideshow": {
     "slide_type": "-"
    }
   },
   "outputs": [],
   "source": [
    "from flask import render_template, request\n",
    "from flask_wtf import Form\n",
    "from wtforms.fields.html5 import DecimalRangeField\n",
    "from app import app\n",
    "\n",
    "class MyForm(Form):\n",
    "    my_slider = DecimalRangeField('Slider')\n",
    "\n",
    "@app.route('/', methods=('GET', 'POST'))\n",
    "def index():\n",
    "    form = MyForm()\n",
    "    user = {'nickname': 'Dr. Robert'}\n",
    "    if request.method == 'POST':\n",
    "        value = request.form['my_slider']\n",
    "        user['nickname'] = value\n",
    "    return render_template('index.html',\n",
    "                           title='Home',\n",
    "                           user=user,\n",
    "                           form=form)"
   ]
  },
  {
   "cell_type": "markdown",
   "metadata": {
    "slideshow": {
     "slide_type": "subslide"
    }
   },
   "source": [
    "     2015-PUG-flask-data-vis/app/templates/index.html"
   ]
  },
  {
   "cell_type": "code",
   "execution_count": null,
   "metadata": {
    "collapsed": true
   },
   "outputs": [],
   "source": [
    "<html>\n",
    "  <head>\n",
    "    {% if title %}\n",
    "    <title>{{ title }} - PUG</title>\n",
    "    {% else %}\n",
    "    <title>2015-PUG-Data-Vis</title>\n",
    "    {% endif %}\n",
    "  </head>\n",
    "  <body>\n",
    "      <h1>Hello, {{ user.nickname }}!</h1>\n",
    "      <form method=\"POST\" action=\"/\">\n",
    "          {{form.hidden_tag()}}\n",
    "          <p>{{ form.my_slider.label }}: {{ form.my_slider }}</p>\n",
    "          <input type=\"submit\" value=\"Go\">\n",
    "      </form>\n",
    "  </body>\n",
    "</html>"
   ]
  },
  {
   "cell_type": "markdown",
   "metadata": {
    "slideshow": {
     "slide_type": "subslide"
    }
   },
   "source": [
    "# Assume the worst of your users (They're hackers)\n",
    "\n",
    "HTTP communications can be faked, so make sure you parse your inputs before using them directly"
   ]
  },
  {
   "cell_type": "code",
   "execution_count": 1,
   "metadata": {
    "collapsed": false,
    "slideshow": {
     "slide_type": "-"
    }
   },
   "outputs": [
    {
     "data": {
      "text/plain": [
       "Markup(u'<strong>Hello &lt;blink&gt;hacker&lt;/blink&gt;!</strong>')"
      ]
     },
     "execution_count": 1,
     "metadata": {},
     "output_type": "execute_result"
    }
   ],
   "source": [
    "from flask import Markup\n",
    "Markup('<strong>Hello %s!</strong>') % '<blink>hacker</blink>'"
   ]
  },
  {
   "cell_type": "markdown",
   "metadata": {
    "slideshow": {
     "slide_type": "slide"
    }
   },
   "source": [
    "---\n",
    "\n",
    "# Data Display\n",
    "\n",
    "    git checkout version-0.3\n",
    "\n",
    " + Static (matplotlib, ggplot, seaborn)\n",
    " + Interactive (bokeh, mpld3, plotly)\n",
    "\n",
    "---"
   ]
  },
  {
   "cell_type": "markdown",
   "metadata": {
    "slideshow": {
     "slide_type": "subslide"
    }
   },
   "source": [
    "# Static Plotting\n",
    "\n",
    "Most of us probably already use static plotting libraries\n",
    "\n",
    "+ matplotlib\n",
    "+ ggplot\n",
    "+ seaborn"
   ]
  },
  {
   "cell_type": "markdown",
   "metadata": {
    "slideshow": {
     "slide_type": "-"
    }
   },
   "source": [
    "    git checkout tags/v0.3.0"
   ]
  },
  {
   "cell_type": "markdown",
   "metadata": {
    "slideshow": {
     "slide_type": "subslide"
    }
   },
   "source": [
    "     2015-PUG-flask-data-vis/app/views.py"
   ]
  },
  {
   "cell_type": "code",
   "execution_count": null,
   "metadata": {
    "collapsed": true,
    "slideshow": {
     "slide_type": "-"
    }
   },
   "outputs": [],
   "source": [
    "from matplotlib.backends.backend_agg import FigureCanvasAgg as FigureCanvas\n",
    "from matplotlib.figure import Figure\n",
    "\n",
    "@app.route('/<int:mag>/plot.png')\n",
    "def plot(mag):\n",
    "    fig = Figure()\n",
    "    axis = fig.add_subplot(1, 1, 1)\n",
    "\n",
    "    xs = range(100)\n",
    "    ys = [mag * random.randint(1, 50) for x in xs]\n",
    "\n",
    "    axis.plot(xs, ys)\n",
    "    canvas = FigureCanvas(fig)\n",
    "    output = StringIO.StringIO()\n",
    "    canvas.print_png(output)\n",
    "    response = make_response(output.getvalue())\n",
    "    response.mimetype = 'image/png'\n",
    "    return response"
   ]
  },
  {
   "cell_type": "markdown",
   "metadata": {
    "slideshow": {
     "slide_type": "subslide"
    }
   },
   "source": [
    "     2015-PUG-flask-data-vis/app/templates/index.html"
   ]
  },
  {
   "cell_type": "code",
   "execution_count": null,
   "metadata": {
    "collapsed": true
   },
   "outputs": [],
   "source": [
    "  <body>\n",
    "      <form method=\"POST\" action=\"/\">\n",
    "          {{form.hidden_tag()}}\n",
    "          <p>{{ form.my_slider.label }}: {{ form.my_slider }}</p>\n",
    "          <input type=\"submit\" value=\"Go\">\n",
    "      </form>\n",
    "      <img src=\"{{ url_for('plot', mag=mag) }}\"></img>\n",
    "  </body>"
   ]
  },
  {
   "cell_type": "markdown",
   "metadata": {
    "slideshow": {
     "slide_type": "subslide"
    }
   },
   "source": [
    "# Interactive Plotting\n",
    "\n",
    "It is nice to generate unique plots, especially when exploring the data\n",
    "\n",
    "+ bokeh \n",
    "+ mpld3 "
   ]
  },
  {
   "cell_type": "markdown",
   "metadata": {},
   "source": [
    "    git checkout tags/v0.3.3"
   ]
  },
  {
   "cell_type": "markdown",
   "metadata": {
    "slideshow": {
     "slide_type": "subslide"
    }
   },
   "source": [
    "     2015-PUG-flask-data-vis/app/views.py"
   ]
  },
  {
   "cell_type": "code",
   "execution_count": null,
   "metadata": {
    "collapsed": true,
    "slideshow": {
     "slide_type": "-"
    }
   },
   "outputs": [],
   "source": [
    "from bokeh.embed import components\n",
    "from bokeh.plotting import figure\n",
    "\n",
    "@app.route('/plot/')\n",
    "def hello():\n",
    "    fig = figure(title=\"Polynomial\")\n",
    "    fig.line(x, [i ** 2 for i in x], color=color, line_width=2)\n",
    "    script, div = components(fig)\n",
    "    return render_template(\n",
    "        'index.html',\n",
    "        script=script,\n",
    "        div=div,\n",
    "    )"
   ]
  },
  {
   "cell_type": "markdown",
   "metadata": {
    "slideshow": {
     "slide_type": "subslide"
    }
   },
   "source": [
    "     2015-PUG-flask-data-vis/app/templates/index.html"
   ]
  },
  {
   "cell_type": "code",
   "execution_count": null,
   "metadata": {
    "collapsed": true,
    "slideshow": {
     "slide_type": "-"
    }
   },
   "outputs": [],
   "source": [
    "  <link rel=\"stylesheet\" href=\"http://cdn.pydata.org/bokeh/release/bokeh-0.9.1.min.css\" type=\"text/css\" />\n",
    "  <script type=\"text/javascript\" src=\"http://cdn.pydata.org/bokeh/release/bokeh-0.9.1.min.js\"></script>\n",
    "...\n",
    "  <body>\n",
    "      {{ div | safe }}\n",
    "      {{ script | safe }}\n",
    "  </body>\n"
   ]
  },
  {
   "cell_type": "markdown",
   "metadata": {
    "slideshow": {
     "slide_type": "slide"
    }
   },
   "source": [
    "---\n",
    "\n",
    "# Upgraded Interface\n",
    "\n",
    " + Layouts (Bootstrap, Foundation)\n",
    " + Document Object Model (jQuery)\n",
    " + Call backs (AJAX, Databases)\n",
    " + Custom visualizations (d3.js, nvd3)\n",
    "\n",
    "---"
   ]
  },
  {
   "cell_type": "markdown",
   "metadata": {
    "slideshow": {
     "slide_type": "subslide"
    }
   },
   "source": [
    "# Javascript Awesome\n",
    "\n",
    "    git checkout version-0.4\n",
    "\n",
    "JavaScript can provide very helpful client-side frameworks (think module imports in Python), along with helpful interactions with the \"Document Object Model\" (or page), just like Python (compiled in the browser)\n",
    "\n",
    "+ Bootstrap, Foundation, etc. -- Layouts, buttons, themes, etc. \n",
    "+ JQUERY -- Interaction with elements\n",
    "+ AJAX -- Asynchronous refresh"
   ]
  },
  {
   "cell_type": "code",
   "execution_count": null,
   "metadata": {
    "collapsed": true,
    "slideshow": {
     "slide_type": "subslide"
    }
   },
   "outputs": [],
   "source": [
    "  <!-- Latest compiled and minified CSS -->\n",
    "  <link rel=\"stylesheet\" href=\"https://maxcdn.bootstrapcdn.com/bootstrap/3.3.5/css/bootstrap.min.css\">\n",
    "  <!-- Optional theme -->\n",
    "  <link rel=\"stylesheet\" href=\"https://maxcdn.bootstrapcdn.com/bootstrap/3.3.5/css/bootstrap-theme.min.css\">\n",
    "...\n",
    "    <nav class=\"navbar navbar-inverse navbar-fixed-top\">\n",
    "      <div class=\"container\">\n",
    "...\n",
    "        <input type=\"submit\" value=\"Go\" class=\"btn btn-md btn-success\">\n",
    "...\n",
    "      </div>\n",
    "    </nav>"
   ]
  },
  {
   "cell_type": "markdown",
   "metadata": {
    "slideshow": {
     "slide_type": "subslide"
    }
   },
   "source": [
    "# Javascript Plotting\n",
    "\n",
    "+ d3\n",
    "+ nvd3\n",
    "+ dygraphs\n",
    "+ Google Charts\n",
    "\n",
    "Plotting can be customized to meet your needs using re-useable libraries. "
   ]
  },
  {
   "cell_type": "markdown",
   "metadata": {
    "slideshow": {
     "slide_type": "slide"
    }
   },
   "source": [
    "\n",
    "# Depolyment\n",
    "\n",
    "Couple of options for deployment\n",
    "\n",
    "+ In-App\n",
    "+ pythonanywhere, heroku\n",
    "+ Apache2, nginx, RPi server, etc."
   ]
  },
  {
   "cell_type": "markdown",
   "metadata": {
    "slideshow": {
     "slide_type": "subslide"
    }
   },
   "source": [
    "# In-App\n",
    "\n",
    "If you trust your internal network, open up a port to listen on all public IPs:\n",
    "\n",
    "    app.run(port=8080, host='0.0.0.0', debug=False)\n",
    "    \n",
    "Then, others can access your host via requests at:\n",
    "\n",
    "    http://yourcomputer:8080/\n",
    "    "
   ]
  },
  {
   "cell_type": "markdown",
   "metadata": {
    "slideshow": {
     "slide_type": "subslide"
    }
   },
   "source": [
    "# Hosting Site\n",
    "\n",
    "Leave out the `app.run()` call, and setup configurations as directed by the host\n",
    "\n",
    "[pythonanywhere](https://www.pythonanywhere.com/details/flask_hosting)\n",
    "\n",
    "[heroku](https://devcenter.heroku.com/articles/getting-started-with-python-o)\n",
    "\n"
   ]
  },
  {
   "cell_type": "markdown",
   "metadata": {
    "slideshow": {
     "slide_type": "subslide"
    }
   },
   "source": [
    "# Setting up Apache Server\n",
    "\n",
    "You'll want to setup Apache to be able to call python, using FastCGI\n",
    "\n",
    "    FcgidIPCDir /tmp\n",
    "    AddHandler fcgid-script .fcgi\n",
    "    ServerAlias my-web-app\n",
    "    <VirtualHost *:80>\n",
    "        DocumentRoot /var/www/datavis/app/static\n",
    "        Alias /static /var/www/datavis/app/static\n",
    "        ScriptAlias / /var/www/datavis/runp-mysql.fcgi/\n",
    "    </VirtualHost>\n",
    "\n",
    "Where your python script is:\n",
    "\n",
    "     /var/www/datavis/runp-mysql.fcgi\n",
    "    \n",
    "Then, register the DNS on your computer, and it can be accessed at:\n",
    "    \n",
    "    http://my-web-app/"
   ]
  },
  {
   "cell_type": "markdown",
   "metadata": {
    "slideshow": {
     "slide_type": "skip"
    }
   },
   "source": [
    "---\n",
    "\n",
    "# CONCLUSIONS =================================="
   ]
  },
  {
   "cell_type": "markdown",
   "metadata": {
    "slideshow": {
     "slide_type": "slide"
    }
   },
   "source": [
    "# Common Pitfalls\n",
    "\n",
    "Things which seemed to pop up reliably to trip me up early on"
   ]
  },
  {
   "cell_type": "markdown",
   "metadata": {
    "slideshow": {
     "slide_type": "subslide"
    }
   },
   "source": [
    "## Get out of Flask/Jinja's way\n",
    "\n",
    "+ Using loops, other Jinja controls\n",
    "+ Keeping logic seperate from UI/UX\n",
    "+ Pre-process & ready the data"
   ]
  },
  {
   "cell_type": "markdown",
   "metadata": {
    "slideshow": {
     "slide_type": "subslide"
    }
   },
   "source": [
    "## Outsource processing to Javascript\n",
    "\n",
    "+ Javascript is complied language, and is getting faster\n",
    "+ + Out-source some processes to the client browser\n",
    "+ Imports can overwrite, or depend on, other imports\n",
    "+ + For example, `bootstrap` depends on `jQuery`, which must be imported (sourced) first"
   ]
  },
  {
   "cell_type": "markdown",
   "metadata": {
    "slideshow": {
     "slide_type": "subslide"
    }
   },
   "source": [
    "## Determine the website type\n",
    "\n",
    "+ Flask is awesome for when you need the server backend\n",
    "+ Use Jekyll (or similar) for static webpages\n",
    "+ Drupal (or similar) for multi-user content"
   ]
  },
  {
   "cell_type": "markdown",
   "metadata": {
    "slideshow": {
     "slide_type": "slide"
    }
   },
   "source": [
    "# References\n",
    "\n",
    "[flask docs](http://flask.pocoo.org/docs/0.10/quickstart/)\n",
    "\n",
    "[The Flask Mega-Tutorial](http://blog.miguelgrinberg.com/post/the-flask-mega-tutorial-part-i-hello-world)\n",
    "\n",
    "[CodeCademy: JavaScript](https://www.codecademy.com/tracks/javascript)"
   ]
  }
 ],
 "metadata": {
  "celltoolbar": "Slideshow",
  "kernelspec": {
   "display_name": "Python 2",
   "language": "python",
   "name": "python2"
  },
  "language_info": {
   "codemirror_mode": {
    "name": "ipython",
    "version": 2
   },
   "file_extension": ".py",
   "mimetype": "text/x-python",
   "name": "python",
   "nbconvert_exporter": "python",
   "pygments_lexer": "ipython2",
   "version": "2.7.10"
  }
 },
 "nbformat": 4,
 "nbformat_minor": 0
}
